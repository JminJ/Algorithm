{
 "cells": [
  {
   "cell_type": "markdown",
   "metadata": {},
   "source": [
    "## 병합정렬\n",
    "병합정렬은 재귀를 활용해 구현된다. 해당 정렬은 코드를 보면서 주석으로 절차별로 설명을 하는 것으로 진행하겠다."
   ]
  },
  {
   "cell_type": "code",
   "execution_count": 3,
   "metadata": {},
   "outputs": [],
   "source": [
    "import typing as t\n",
    "\n",
    "example_arr = [6,3,4,7,5,2,1]"
   ]
  },
  {
   "cell_type": "code",
   "execution_count": 13,
   "metadata": {},
   "outputs": [],
   "source": [
    "def merge_sort(arr:t.List)->t.List:\n",
    "    if len(arr) < 2: # arr의 길이가 1인 경우는 정렬 병합을 하지 않고 바로 리턴한다.\n",
    "        return arr\n",
    "    \n",
    "    mid_index = len(arr) // 2 # 중간 index를 기준으로 low_arr, high_arr 두 list로 쪼갠다.\n",
    "    low_arr = merge_sort(arr[:mid_index]) # 재귀를 통해 계속 쪼개지고 정렬 병합(while문 내 코드)을 진행한 결과를 받게 된다.\n",
    "    high_arr = merge_sort(arr[mid_index:]) # low_arr과 동일하게 정렬 병합을 진행한다.\n",
    "\n",
    "    merged_arr = []\n",
    "    l = h = 0 # 해당 값들을 통해 merged_arr에 들어가지 않은 각 low, high_arr 리스트 내 값들의 위치를 기록한다.\n",
    "\n",
    "    while l < len(low_arr) and h < len(high_arr): # 보통 재귀를 통해 쪼개고 쪼개져 먼저 각 low, high arr 내 인자가 1개씩인 경우가 들어올 것이다.\n",
    "        # 아래 if-else문을 통해 작은 값들이 merged_arr로 append되며 l, h를 업데이트 한다.\n",
    "        if low_arr[l] < high_arr[h]: \n",
    "            merged_arr.append(low_arr[l])\n",
    "            l += 1\n",
    "        else:\n",
    "            merged_arr.append(high_arr[h])\n",
    "            h += 1\n",
    "    # l, h를 통해 append되지 못한 값들을 병합한다.\n",
    "    merged_arr += low_arr[l:]\n",
    "    merged_arr += high_arr[h:]\n",
    "\n",
    "    return merged_arr"
   ]
  },
  {
   "cell_type": "code",
   "execution_count": 14,
   "metadata": {},
   "outputs": [
    {
     "name": "stdout",
     "output_type": "stream",
     "text": [
      "[1, 2, 3, 4, 5, 6, 7]\n"
     ]
    }
   ],
   "source": [
    "result = merge_sort(example_arr)\n",
    "\n",
    "print(result)"
   ]
  }
 ],
 "metadata": {
  "kernelspec": {
   "display_name": ".venv",
   "language": "python",
   "name": "python3"
  },
  "language_info": {
   "codemirror_mode": {
    "name": "ipython",
    "version": 3
   },
   "file_extension": ".py",
   "mimetype": "text/x-python",
   "name": "python",
   "nbconvert_exporter": "python",
   "pygments_lexer": "ipython3",
   "version": "3.10.12"
  }
 },
 "nbformat": 4,
 "nbformat_minor": 2
}
