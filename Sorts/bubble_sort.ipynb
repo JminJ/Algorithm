{
 "cells": [
  {
   "cell_type": "markdown",
   "metadata": {},
   "source": [
    "## 버블 정렬\n",
    "버블 정렬은 리스트의 end에서 0까지 순회하는 반복문 내에서 또 다른 반복문을 통해 j와 j+1 index의 값을 비교해 정렬을 하는 방법이다. 기본 코드는 아래와 같다."
   ]
  },
  {
   "cell_type": "code",
   "execution_count": 1,
   "metadata": {},
   "outputs": [],
   "source": [
    "import typing as t\n",
    "\n",
    "example_arr = [2,1,4,3,5]"
   ]
  },
  {
   "cell_type": "code",
   "execution_count": 4,
   "metadata": {},
   "outputs": [],
   "source": [
    "def bubble_sort(arr:t.List)->t.List:\n",
    "    for i in range(len(arr)-1, 0, -1): # j+1 index와 비교해야 하기 때문에 len(arr)은 index error가 발생\n",
    "        for j in range(i): # example_arr 기준 i는 4(5-1),3,2,1로 점차 줄어들 것 -> 이는 매 반복마다 i index 범위 내 max값이 정렬이 되간다는 뜻이다.\n",
    "            if arr[j] > arr[j+1]:\n",
    "                arr[j], arr[j+1] = arr[j+1], arr[j]\n",
    "\n",
    "    return arr"
   ]
  },
  {
   "cell_type": "code",
   "execution_count": 5,
   "metadata": {},
   "outputs": [
    {
     "name": "stdout",
     "output_type": "stream",
     "text": [
      "[1, 2, 3, 4, 5]\n"
     ]
    }
   ],
   "source": [
    "result = bubble_sort(example_arr)\n",
    "\n",
    "print(result)"
   ]
  },
  {
   "cell_type": "markdown",
   "metadata": {},
   "source": [
    "### 추가 최적화 요소\n",
    "- 현재 bubble sort의 경우 정렬된 리스트가 들어오더라도 이를 무시하고 순회를 돌고 있다."
   ]
  },
  {
   "cell_type": "code",
   "execution_count": 9,
   "metadata": {},
   "outputs": [],
   "source": [
    "def optimized_bubble_sort(arr:t.List)->t.List:\n",
    "    swaped = False\n",
    "    for i in range(len(arr)-1, 0, -1):\n",
    "        for j in range(i):\n",
    "            if arr[j] > arr[j+1]:\n",
    "                arr[j], arr[j+1] = arr[j+1], arr[j] \n",
    "                swaped = True\n",
    "        if not swaped:\n",
    "            break\n",
    "    return arr"
   ]
  },
  {
   "cell_type": "code",
   "execution_count": 10,
   "metadata": {},
   "outputs": [
    {
     "name": "stdout",
     "output_type": "stream",
     "text": [
      "[1, 2, 3, 4, 5]\n"
     ]
    }
   ],
   "source": [
    "result = optimized_bubble_sort(example_arr)\n",
    "\n",
    "print(result)"
   ]
  }
 ],
 "metadata": {
  "kernelspec": {
   "display_name": ".venv",
   "language": "python",
   "name": "python3"
  },
  "language_info": {
   "codemirror_mode": {
    "name": "ipython",
    "version": 3
   },
   "file_extension": ".py",
   "mimetype": "text/x-python",
   "name": "python",
   "nbconvert_exporter": "python",
   "pygments_lexer": "ipython3",
   "version": "3.10.12"
  }
 },
 "nbformat": 4,
 "nbformat_minor": 2
}
