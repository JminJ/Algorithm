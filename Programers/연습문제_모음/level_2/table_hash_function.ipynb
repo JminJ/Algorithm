{
 "cells": [
  {
   "cell_type": "code",
   "execution_count": 51,
   "metadata": {},
   "outputs": [],
   "source": [
    "import numpy as np\n",
    "\n",
    "def _sort_by_col(data, col):\n",
    "    sorted_data = []\n",
    "\n",
    "    # cor_th_datas = data[:][col-1]\n",
    "    cor_th_datas = [d[col-1] for d in data]\n",
    "    sorted_cor_th_datas = sorted(cor_th_datas)\n",
    "    array_cor_th_datas = np.array(cor_th_datas)\n",
    "\n",
    "    duplicated_value = []\n",
    "    for d in sorted_cor_th_datas:\n",
    "        if d in duplicated_value:\n",
    "            continue\n",
    "\n",
    "        check_is_duplicate = np.where(array_cor_th_datas == d)[0]\n",
    "        print(f\"temp {d} check duplicate : {check_is_duplicate}\")\n",
    "\n",
    "        if len(check_is_duplicate) > 1:\n",
    "            print(f\"temp d : {d}\\ncheck_is_duplicate : {check_is_duplicate}\")\n",
    "            duplicated_value.append(d)\n",
    "            \n",
    "            duplicate_data_first_columns = [data[index][0] for index in check_is_duplicate]\n",
    "            print(f\"duplicate_data_first_column : {duplicate_data_first_columns}\")\n",
    "            print(f\"check_is_duplicate : {check_is_duplicate}\")\n",
    "            ## check_is_duplicate의 index를 x로 사용하는 방법을 알아야 함\n",
    "            sorted_check_is_duplicate = sorted(check_is_duplicate, key=lambda x : duplicate_data_first_columns[x])\n",
    "\n",
    "            for i in range(len(sorted_check_is_duplicate)):\n",
    "                sorted_data.append(data[sorted_check_is_duplicate[i]])\n",
    "        else:\n",
    "            match_data_index = cor_th_datas.index(d)\n",
    "            sorted_data.append(data[match_data_index])\n",
    "\n",
    "    return sorted_data\n",
    "\n",
    "def _mod_operation(row, col):\n",
    "    result = 0\n",
    "    for i in range(len(row)):\n",
    "        result += row[i]%col\n",
    "\n",
    "    return result\n",
    "\n",
    "def _hash_operation(mod_results):\n",
    "    xor_result = mod_results[0]\n",
    "    for m in range(1, len(mod_results)):\n",
    "        xor_result = xor_result ^ mod_results[m]\n",
    "\n",
    "    return xor_result\n",
    "\n",
    "def solution(data, col, row_begin, row_end):\n",
    "    answer = 0\n",
    "    \n",
    "    sorted_data = _sort_by_col(data=data, col=col)\n",
    "    print(sorted_data)\n",
    "    target_row_range = list(range(row_begin-1, row_end))\n",
    "    print(target_row_range)\n",
    "    mod_results = []\n",
    "    for r in target_row_range:\n",
    "        temp_mod_result = _mod_operation(row=sorted_data[r], col=col) \n",
    "        mod_results.append(temp_mod_result)\n",
    "    \n",
    "    answer = _hash_operation(mod_results=mod_results)\n",
    "\n",
    "    return answer"
   ]
  },
  {
   "cell_type": "code",
   "execution_count": 52,
   "metadata": {},
   "outputs": [
    {
     "name": "stdout",
     "output_type": "stream",
     "text": [
      "temp 2 check duplicate : [0 2]\n",
      "temp d : 2\n",
      "check_is_duplicate : [0 2]\n",
      "duplicate_data_first_column : [2, 4]\n",
      "check_is_duplicate : [0 2]\n",
      "<function _sort_by_col.<locals>.<lambda> at 0x1178edee0>\n"
     ]
    },
    {
     "ename": "IndexError",
     "evalue": "list index out of range",
     "output_type": "error",
     "traceback": [
      "\u001b[0;31m---------------------------------------------------------------------------\u001b[0m",
      "\u001b[0;31mIndexError\u001b[0m                                Traceback (most recent call last)",
      "Cell \u001b[0;32mIn[52], line 3\u001b[0m\n\u001b[1;32m      1\u001b[0m ex_data \u001b[39m=\u001b[39m [[\u001b[39m2\u001b[39m,\u001b[39m2\u001b[39m,\u001b[39m6\u001b[39m],[\u001b[39m1\u001b[39m,\u001b[39m5\u001b[39m,\u001b[39m10\u001b[39m],[\u001b[39m4\u001b[39m,\u001b[39m2\u001b[39m,\u001b[39m9\u001b[39m],[\u001b[39m3\u001b[39m,\u001b[39m8\u001b[39m,\u001b[39m3\u001b[39m]]\n\u001b[0;32m----> 3\u001b[0m answer \u001b[39m=\u001b[39m solution(data \u001b[39m=\u001b[39;49m ex_data,col \u001b[39m=\u001b[39;49m \u001b[39m2\u001b[39;49m, row_begin\u001b[39m=\u001b[39;49m\u001b[39m2\u001b[39;49m, row_end\u001b[39m=\u001b[39;49m\u001b[39m3\u001b[39;49m)\n\u001b[1;32m      5\u001b[0m \u001b[39mprint\u001b[39m(answer)\n",
      "Cell \u001b[0;32mIn[51], line 54\u001b[0m, in \u001b[0;36msolution\u001b[0;34m(data, col, row_begin, row_end)\u001b[0m\n\u001b[1;32m     51\u001b[0m \u001b[39mdef\u001b[39;00m \u001b[39msolution\u001b[39m(data, col, row_begin, row_end):\n\u001b[1;32m     52\u001b[0m     answer \u001b[39m=\u001b[39m \u001b[39m0\u001b[39m\n\u001b[0;32m---> 54\u001b[0m     sorted_data \u001b[39m=\u001b[39m _sort_by_col(data\u001b[39m=\u001b[39;49mdata, col\u001b[39m=\u001b[39;49mcol)\n\u001b[1;32m     55\u001b[0m     \u001b[39mprint\u001b[39m(sorted_data)\n\u001b[1;32m     56\u001b[0m     target_row_range \u001b[39m=\u001b[39m \u001b[39mlist\u001b[39m(\u001b[39mrange\u001b[39m(row_begin\u001b[39m-\u001b[39m\u001b[39m1\u001b[39m, row_end))\n",
      "Cell \u001b[0;32mIn[51], line 27\u001b[0m, in \u001b[0;36m_sort_by_col\u001b[0;34m(data, col)\u001b[0m\n\u001b[1;32m     25\u001b[0m \u001b[39mprint\u001b[39m(\u001b[39mf\u001b[39m\u001b[39m\"\u001b[39m\u001b[39mcheck_is_duplicate : \u001b[39m\u001b[39m{\u001b[39;00mcheck_is_duplicate\u001b[39m}\u001b[39;00m\u001b[39m\"\u001b[39m)\n\u001b[1;32m     26\u001b[0m \u001b[39mprint\u001b[39m(\u001b[39mlambda\u001b[39;00m x : check_is_duplicate)\n\u001b[0;32m---> 27\u001b[0m sorted_check_is_duplicate \u001b[39m=\u001b[39m \u001b[39msorted\u001b[39;49m(check_is_duplicate, key\u001b[39m=\u001b[39;49m\u001b[39mlambda\u001b[39;49;00m x : duplicate_data_first_columns[x])\n\u001b[1;32m     29\u001b[0m \u001b[39mfor\u001b[39;00m i \u001b[39min\u001b[39;00m \u001b[39mrange\u001b[39m(\u001b[39mlen\u001b[39m(sorted_check_is_duplicate)):\n\u001b[1;32m     30\u001b[0m     sorted_data\u001b[39m.\u001b[39mappend(data[sorted_check_is_duplicate[i]])\n",
      "Cell \u001b[0;32mIn[51], line 27\u001b[0m, in \u001b[0;36m_sort_by_col.<locals>.<lambda>\u001b[0;34m(x)\u001b[0m\n\u001b[1;32m     25\u001b[0m \u001b[39mprint\u001b[39m(\u001b[39mf\u001b[39m\u001b[39m\"\u001b[39m\u001b[39mcheck_is_duplicate : \u001b[39m\u001b[39m{\u001b[39;00mcheck_is_duplicate\u001b[39m}\u001b[39;00m\u001b[39m\"\u001b[39m)\n\u001b[1;32m     26\u001b[0m \u001b[39mprint\u001b[39m(\u001b[39mlambda\u001b[39;00m x : check_is_duplicate)\n\u001b[0;32m---> 27\u001b[0m sorted_check_is_duplicate \u001b[39m=\u001b[39m \u001b[39msorted\u001b[39m(check_is_duplicate, key\u001b[39m=\u001b[39m\u001b[39mlambda\u001b[39;00m x : duplicate_data_first_columns[x])\n\u001b[1;32m     29\u001b[0m \u001b[39mfor\u001b[39;00m i \u001b[39min\u001b[39;00m \u001b[39mrange\u001b[39m(\u001b[39mlen\u001b[39m(sorted_check_is_duplicate)):\n\u001b[1;32m     30\u001b[0m     sorted_data\u001b[39m.\u001b[39mappend(data[sorted_check_is_duplicate[i]])\n",
      "\u001b[0;31mIndexError\u001b[0m: list index out of range"
     ]
    }
   ],
   "source": [
    "ex_data = [[2,2,6],[1,5,10],[4,2,9],[3,8,3]]\n",
    "\n",
    "answer = solution(data = ex_data,col = 2, row_begin=2, row_end=3)\n",
    "\n",
    "print(answer)"
   ]
  },
  {
   "attachments": {},
   "cell_type": "markdown",
   "metadata": {},
   "source": [
    "### Test"
   ]
  },
  {
   "cell_type": "code",
   "execution_count": 6,
   "metadata": {},
   "outputs": [
    {
     "name": "stdout",
     "output_type": "stream",
     "text": [
      "0\n"
     ]
    }
   ],
   "source": [
    "import numpy as np\n",
    "\n",
    "l = [1,2,3,4,5]\n",
    "array_l = np.array(l)\n",
    "\n",
    "print(len(np.where(array_l == 0)[0]))"
   ]
  },
  {
   "cell_type": "code",
   "execution_count": 10,
   "metadata": {},
   "outputs": [
    {
     "name": "stdout",
     "output_type": "stream",
     "text": [
      "[2, 0, 1]\n"
     ]
    }
   ],
   "source": [
    "list_ex = np.array([0,1,2])\n",
    "value = [6,8,4]\n",
    "\n",
    "sorted_list_ex = sorted(list_ex, key=lambda x: value[x])\n",
    "print(sorted_list_ex)"
   ]
  },
  {
   "cell_type": "code",
   "execution_count": 13,
   "metadata": {},
   "outputs": [
    {
     "name": "stdout",
     "output_type": "stream",
     "text": [
      "4\n"
     ]
    }
   ],
   "source": [
    "a = 0\n",
    "b = 4\n",
    "\n",
    "print(a^b)"
   ]
  },
  {
   "cell_type": "code",
   "execution_count": 20,
   "metadata": {},
   "outputs": [
    {
     "name": "stdout",
     "output_type": "stream",
     "text": [
      "[2, 5, 2, 8]\n"
     ]
    }
   ],
   "source": [
    "ex_data = [[2,2,6],[1,5,10],[4,2,9],[3,8,3]]\n",
    "\n",
    "print([i[1] for i in ex_data])"
   ]
  }
 ],
 "metadata": {
  "kernelspec": {
   "display_name": "torch_env",
   "language": "python",
   "name": "python3"
  },
  "language_info": {
   "codemirror_mode": {
    "name": "ipython",
    "version": 3
   },
   "file_extension": ".py",
   "mimetype": "text/x-python",
   "name": "python",
   "nbconvert_exporter": "python",
   "pygments_lexer": "ipython3",
   "version": "3.9.15 (main, Nov 24 2022, 08:28:41) \n[Clang 14.0.6 ]"
  },
  "orig_nbformat": 4,
  "vscode": {
   "interpreter": {
    "hash": "a52e575362aa5d973399fc42d131bb27f411347a99c97a5c7709c3ee105089cf"
   }
  }
 },
 "nbformat": 4,
 "nbformat_minor": 2
}
