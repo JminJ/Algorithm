{
 "cells": [
  {
   "attachments": {},
   "cell_type": "markdown",
   "metadata": {},
   "source": [
    "### 시도한 코드 1"
   ]
  },
  {
   "cell_type": "code",
   "execution_count": null,
   "metadata": {},
   "outputs": [],
   "source": [
    "def _return_len_dict(sorted_phone_book):\n",
    "    len_dict = dict()\n",
    "    for i in range(len(sorted_phone_book)):\n",
    "        temp_phone_number_len = len(sorted_phone_book[i])\n",
    "\n",
    "        if temp_phone_number_len in len_dict.keys():\n",
    "            len_dict[temp_phone_number_len].append(sorted_phone_book[i])\n",
    "        else:\n",
    "            len_dict[temp_phone_number_len] = [sorted_phone_book[i]]\n",
    "    \n",
    "    return len_dict\n",
    "\n",
    "def solution(phone_book):\n",
    "    answer = True\n",
    "    phone_book.sort(key=lambda x : len(x)) # 전화번호의 길이를 기준으로 정렬\n",
    "    sorted_phone_book = phone_book\n",
    "\n",
    "    len_dict = _return_len_dict(sorted_phone_book) # 전화번호의 길이를 key로 하는 dictionary를 반환\n",
    "    len_dict_keys = list(len_dict.keys())\n",
    "    \n",
    "    for i in range(len(sorted_phone_book)):\n",
    "        temp_phone_num = sorted_phone_book[i] # 현재 전화번호를 가져옴\n",
    "        temp_number_len = len(temp_phone_num)\n",
    "\n",
    "        # if temp_number_len == len_dict_keys[-1]: ## 만약 현재 전화번호가 len_dict 키값 중 마지막 값일 경우 접두어 포함 케이스가 없다 판단 후 True 리턴\n",
    "        #     # 이론상 무조건 True를 배출할 것.\n",
    "        #     return answer\n",
    "\n",
    "        compare_number_keys = len_dict_keys[len_dict_keys.index(temp_number_len)+1:] # len_dict의 키값들 중 현재 전화번호의 길이보다 큰 키 값들만을 비교에 사용\n",
    "        for k in compare_number_keys:\n",
    "            temp_compare_number_lists = len_dict[k]\n",
    "\n",
    "            for j in range(len(temp_compare_number_lists)):\n",
    "                target_number = temp_compare_number_lists[j] # temp_phone_num과 비교할 번호\n",
    "\n",
    "                if temp_phone_num == target_number[:temp_number_len]: ## 만약 현재 번호 temp_phone_num이 target_number의 접두어일 경우 False 리턴\n",
    "                    answer = False\n",
    "                    break\n",
    "                \n",
    "    return answer\n",
    "\n",
    "if __name__ == \"__main__\":\n",
    "    ex_list = [\"119\", \"97674223\", \"1195524421\"]\n",
    "\n",
    "    answer = solution(phone_book=ex_list)\n",
    "\n",
    "    print(answer)"
   ]
  },
  {
   "attachments": {},
   "cell_type": "markdown",
   "metadata": {},
   "source": [
    "**결과**\n",
    "\n",
    "정확성: 83.3\n",
    "\n",
    "효율성: 4.2\n",
    "\n",
    "합계: 87.5 / 100.0"
   ]
  },
  {
   "attachments": {},
   "cell_type": "markdown",
   "metadata": {},
   "source": [
    "### 시도한 코드 2"
   ]
  },
  {
   "cell_type": "code",
   "execution_count": null,
   "metadata": {},
   "outputs": [],
   "source": [
    "def _return_dict(phone_book):\n",
    "    result_dict = dict()\n",
    "\n",
    "    for i in range(len(phone_book)):\n",
    "        temp_phone_num = phone_book[i]\n",
    "\n",
    "        for r in range(len(temp_phone_num)-1):\n",
    "            result_dict[temp_phone_num[:r+1]] = len(temp_phone_num[:r+1])\n",
    "    \n",
    "    return result_dict\n",
    "\n",
    "def solution(phone_book):\n",
    "    answer = True\n",
    "    \n",
    "    result_dict = _return_dict(phone_book)\n",
    "    result_dict_keys = list(result_dict.keys())\n",
    "    result_dict_keys.sort(key=lambda x : len(x))\n",
    "\n",
    "    # largest_len = len(result_dict_keys[-1])\n",
    "\n",
    "    for p in range(len(phone_book)):\n",
    "        temp_phone_num = phone_book[p]\n",
    "        temp_phone_num_len = len(temp_phone_num)\n",
    "        # if temp_phone_num_len == largest_len:\n",
    "        #     answer = True\n",
    "        #     return answer\n",
    "\n",
    "        for k in range(len(result_dict_keys)):\n",
    "            target_key = result_dict_keys[k]\n",
    "            if temp_phone_num == target_key[:temp_phone_num_len]:\n",
    "                answer = False\n",
    "                return answer\n",
    "\n",
    "    return answer"
   ]
  },
  {
   "attachments": {},
   "cell_type": "markdown",
   "metadata": {},
   "source": [
    "**결과**\n",
    "\n",
    "정확성: 83.3\n",
    "\n",
    "효율성: 8.3\n",
    "\n",
    "합계: 91.7 / 100.0"
   ]
  }
 ],
 "metadata": {
  "kernelspec": {
   "display_name": "torch_env",
   "language": "python",
   "name": "python3"
  },
  "language_info": {
   "codemirror_mode": {
    "name": "ipython",
    "version": 3
   },
   "file_extension": ".py",
   "mimetype": "text/x-python",
   "name": "python",
   "nbconvert_exporter": "python",
   "pygments_lexer": "ipython3",
   "version": "3.9.6 (default, Aug 16 2021, 12:43:27) \n[Clang 12.0.0 ]"
  },
  "orig_nbformat": 4,
  "vscode": {
   "interpreter": {
    "hash": "a52e575362aa5d973399fc42d131bb27f411347a99c97a5c7709c3ee105089cf"
   }
  }
 },
 "nbformat": 4,
 "nbformat_minor": 2
}
